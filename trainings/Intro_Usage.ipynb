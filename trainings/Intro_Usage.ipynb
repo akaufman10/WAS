{
 "cells": [
  {
   "cell_type": "markdown",
   "metadata": {
    "collapsed": true
   },
   "source": [
    "# Introduction to Using WAS\n",
    "\n",
    "This notebook described the basic steps to using WAS.  If you are unsure about a concept or word that is used, please check the [Introduction to the Theory of WAS notebook](google.com).\n",
    "\n",
    "## Installing WAS\n",
    "\n",
    "WAS runs on Windows.  It requires instillation from a flash drive.  It also requires instillation of a program called GAMS.  Talk to Alex about how "
   ]
  }
 ],
 "metadata": {
  "kernelspec": {
   "display_name": "Python 2",
   "language": "python",
   "name": "python2"
  },
  "language_info": {
   "codemirror_mode": {
    "name": "ipython",
    "version": 2
   },
   "file_extension": ".py",
   "mimetype": "text/x-python",
   "name": "python",
   "nbconvert_exporter": "python",
   "pygments_lexer": "ipython2",
   "version": "2.7.12"
  }
 },
 "nbformat": 4,
 "nbformat_minor": 0
}
