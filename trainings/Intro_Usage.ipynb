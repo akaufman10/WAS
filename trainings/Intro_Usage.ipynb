{
 "cells": [
  {
   "cell_type": "markdown",
   "metadata": {
    "collapsed": true
   },
   "source": [
    "# Introduction to Using WAS\n",
    "\n",
    "This notebook described the basic steps to using WAS.  If you are unsure about a concept or word that is used, please check the [Introduction to the Theory of WAS notebook](Intro_Theory.ipynb).\n",
    "\n",
    "## Installing WAS\n",
    "\n",
    "WAS runs on Windows.  It requires instillation from a flash drive.  It also requires instillation of a program called GAMS.  Talk to Alex about getting everything installed\n",
    "\n",
    "## Basic Usage\n",
    "\n",
    "WAS is installed along with current data for water supply, demand, and infrastructure in Israel, Jordan, and Palestine.  All of the data is already built in, and a default model of the water system is in place.  The default model describes the water system in Israel, Jordan, and Palestine as it exists today.  Without making any changes or adding data, the user can determine the optimal water allocation in the default model.\n",
    "\n",
    "When WAS is opened, it looks like this:\n",
    "\n",
    "![main menu][home]\n",
    "\n",
    "\n",
    "Choose a year from the \"Year\" menu:\n",
    "\n",
    "![select year][home-year]\n",
    "\n",
    "and click the Optimize button.  This will use an algorithm to determine the socially optimal water allocation given the existing constraints.\n",
    "\n",
    "![run model][home-optimize]\n",
    "\n",
    "you will be prompted to enter a name for the Scenario.  Each time you modify the data and constraings \n",
    "\n",
    "![select name][select-scn-name]\n",
    "\n",
    "when you see the following command output, you know the model was run successfully:\n",
    "\n",
    "![completed][command-output]\n",
    "\n",
    "You can view the results of the model using the \"Tabular\" button, which shows tables of results.\n",
    "\n",
    "![view output][view-output]\n",
    "\n",
    "For analysis of models and results, we use Qlik, a free could-based analytics platform.  See the [Introduction to the Analysis of WAS notebook]().\n",
    "\n",
    "\n",
    "\n",
    "\n",
    "## Alternative Scenarios\n",
    "\n",
    "Thus, the model can be used in two ways:\n",
    "1. The user can modify the data \n",
    "\n",
    "[home]: https://github.com/akaufman10/was/blob/master/static/screenshots/home.png?raw=true\n",
    "[home-year]: https://github.com/akaufman10/was/blob/master/static/screenshots/home-year.png?raw=true\n",
    "[home-optimize]: https://github.com/akaufman10/was/blob/master/static/screenshots/home-optimize.png?raw=true\n",
    "[select-scn-name]: https://github.com/akaufman10/was/blob/master/static/screenshots/select-scn-name.png?raw=true\n",
    "[command-output]: https://github.com/akaufman10/was/blob/master/static/screenshots/complete.png?raw=true\n",
    "[view-output]: https://github.com/akaufman10/was/blob/master/static/screenshots/view-output.png?raw=true"
   ]
  }
 ],
 "metadata": {
  "anaconda-cloud": {},
  "kernelspec": {
   "display_name": "Python [default]",
   "language": "python",
   "name": "python2"
  },
  "language_info": {
   "codemirror_mode": {
    "name": "ipython",
    "version": 2
   },
   "file_extension": ".py",
   "mimetype": "text/x-python",
   "name": "python",
   "nbconvert_exporter": "python",
   "pygments_lexer": "ipython2",
   "version": "2.7.12"
  }
 },
 "nbformat": 4,
 "nbformat_minor": 0
}
