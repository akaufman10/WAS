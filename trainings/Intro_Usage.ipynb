{
 "cells": [
  {
   "cell_type": "markdown",
   "metadata": {
    "collapsed": true
   },
   "source": [
    "# Introduction to Using WAS\n",
    "\n",
    "This notebook described the basic steps to using WAS.  If you are unsure about a concept or word that is used, please check the [Introduction to the Theory of WAS notebook](google.com).\n",
    "\n",
    "## Installing WAS\n",
    "\n",
    "WAS runs on Windows.  It requires instillation from a flash drive.  It also requires instillation of a program called GAMS.  Talk to Alex about getting everything installed\n",
    "\n",
    "## Basic Usage\n",
    "\n",
    "WAS is installed along with current data for supply, demand, and infrastructure in Israel, Jordan, and Palestine.  All of the data is already built into the model.  Without making any changes or adding data, the user can select a year an determine the optimal water allocation under current conditions and assumptions.\n",
    "\n",
    "When WAS is opened, it look like this:\n",
    "\n",
    "![test text][home-year]\n",
    "\n",
    "\n",
    "\n",
    "To chose a year, simply select \n",
    "\n",
    "\n",
    "\n",
    "\n",
    "and click the Optimize button\n",
    "\n",
    "\n",
    "\n",
    "\n",
    "Thus, the model can be used in two ways:\n",
    "1. The user can modify the data \n",
    "\n",
    "\n",
    "[home-year]: ../static/screenshots/home-year.png\n"
   ]
  }
 ],
 "metadata": {
  "anaconda-cloud": {},
  "kernelspec": {
   "display_name": "Python [default]",
   "language": "python",
   "name": "python2"
  },
  "language_info": {
   "codemirror_mode": {
    "name": "ipython",
    "version": 2
   },
   "file_extension": ".py",
   "mimetype": "text/x-python",
   "name": "python",
   "nbconvert_exporter": "python",
   "pygments_lexer": "ipython2",
   "version": "2.7.12"
  }
 },
 "nbformat": 4,
 "nbformat_minor": 0
}
