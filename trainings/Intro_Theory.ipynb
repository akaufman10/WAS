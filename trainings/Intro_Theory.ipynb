{
 "cells": [
  {
   "cell_type": "code",
   "execution_count": null,
   "metadata": {
    "collapsed": false,
    "hideCode": true,
    "hidePrompt": true
   },
   "outputs": [
    {
     "data": {
      "text/html": [
       "<script>\n",
       "    // AUTORUN ALL CELLS ON NOTEBOOK-LOAD!\n",
       "    require(\n",
       "        ['base/js/namespace', 'jquery'], \n",
       "        function(jupyter, $) {\n",
       "            $(jupyter.events).on(\"kernel_ready.Kernel\", function () {\n",
       "                console.log(\"Auto-running all cells-below...\");\n",
       "                jupyter.actions.call('jupyter-notebook:run-all-cells-below');\n",
       "                jupyter.actions.call('jupyter-notebook:save-notebook');\n",
       "            });\n",
       "        }\n",
       "    );\n",
       "</script>"
      ],
      "text/plain": [
       "<IPython.core.display.HTML object>"
      ]
     },
     "metadata": {},
     "output_type": "display_data"
    }
   ],
   "source": [
    "%%html\n",
    "<script>\n",
    "    // AUTORUN ALL CELLS ON NOTEBOOK-LOAD!\n",
    "    require(\n",
    "        ['base/js/namespace', 'jquery'], \n",
    "        function(jupyter, $) {\n",
    "            $(jupyter.events).on(\"kernel_ready.Kernel\", function () {\n",
    "                console.log(\"Auto-running all cells-below...\");\n",
    "                jupyter.actions.call('jupyter-notebook:run-all-cells-below');\n",
    "                jupyter.actions.call('jupyter-notebook:save-notebook');\n",
    "            });\n",
    "        }\n",
    "    );\n",
    "</script>"
   ]
  },
  {
   "cell_type": "markdown",
   "metadata": {},
   "source": [
    "# Introduction to the Theory of WAS\n",
    "\n",
    "This notebook discusses the concepts and ideas that you need to know to use WAS. \n",
    "Using WAS is discussed in the [Introduction to the Usage of WAS notebook](./Intro_Usage.ipynb).  \n",
    "\n",
    "## WAS is a Water Allocation System\n",
    "\n",
    "The Water Allocation System (WAS) uses information about water sources, infrastructure, demand for water, and cooperation plans to build a model of a water system.  **WAS is special because it determines where water _should_ be allocated in order to achieve the greatest (optimal) social beneits.**  WAS also calculates the value of each water source, piece of infrastructure, and trade agreement.  It is designed to facilitate peacebuilding via water sharing among Israel, Jordan, and Palestine.  By calculating the benefits of cooperation and showing policy makers the best options for water sharing and trading, WAS hopes to encourage peaceful cooperation between nations.\n",
    "\n",
    "To determine the conditions that lead the greatist social benefits, (called the optimal condition), WAS uses economic theory to take all the information available and makes an equation that determines the benefit to society based on water allocation.  The total benefit to society is called _**social welfare**_.\n",
    "\n",
    "$$Social\\ Welfare\\ =\\ function(Water\\ Model)$$\n",
    "\n",
    "Once the user has chosen the specific inputs to be considered, WAS uses a mathematical algortihm to determine the solutions that maximize Social Welfare.\n",
    "\n",
    "$$Social\\ Welfare{max}\\ =\\ function(Water\\ Model_{optimal}) $$\n",
    "\n",
    "The results tell the user how to optimally allocate water, as well as the value of each part of the model, such as water source, connection, treatment plant, trade agreement, etc. \n",
    "\n",
    "_**It is vital to understand that WAS does not make Policy, it only serves as a tool to guide it.**_\n",
    "\n",
    "More specifically, WAS does the following:\n",
    "\n",
    "* [Calculates total social surplus](####WAS calculates social surplus)\n",
    "\n",
    "* [Calcuclates market equilibrium for each market](####WAS calculates equilibrium)\n",
    "\n",
    "* Calculates optimal water allocation to each market to maximize social surplus\n",
    "\n",
    "* Calculate the (shadow) values of infrastructre and other transportation projects. \n",
    "\n",
    "\n",
    "## Applications of WAS\n",
    "  WAS can be used to discover:\n",
    " * The best places and ways for countries to buy and sell water with eachother\n",
    " * The net benefits for each contry if they buy and sell wate with eachother\n",
    " * The best places for countries to collaborate on building new infrastrucutre\n",
    " * The net benefits for each country if they collaborate to build infrastructure\n",
    " * The best way to allocate water that ensures sustainable usage of water\n",
    " \n",
    "and within each country:\n",
    " * Where new infrastrucute is needed\n",
    " * The most beneficial water projects\n",
    " * Whether the benefits of a project outweigh the costs\n",
    " * The effects of different social policies \n",
    " \n",
    "\n",
    "## Fundamental Economic Concepts\n",
    "\n",
    "in order to understand WAS, it is necessary to understand the concepts in this section.  Users who are already familiar with these ideas may still find it beneficial to read this section because water markets operate differently from classic markets.\n",
    "\n",
    "### How to Measure the Value of Water in Economic Terms\n",
    "\n",
    "The economic value of water is determined by the buyer's willingness to pay for it.  In economics, if a buyer is willing to pay \\$2 for a gallon of water, the _value_ of that water is \\$2, even if the price is only \\$1.  _Economic value_ does not capture the _personal value_ of water to a person stranded in the desert.  To her, a gallon of water is more valuable than \\$2, and indeed, water can have high _pesonal or social value_ even when its not affordable.  WAS [provides a way](google.com) for users to account for the personal and social value of water of those in need.  It is important to do so when modeling low-income or refugee populations that need free or subsidized access to water.  \n",
    "\n",
    "Most people in the economy, however, are able to afford some amount of water.  The important question is how much each people and institutions values that water.  Thus, for the purposes of calculating the benefits of water allocation WAS uses the concept of _economic value_ as described below.  We will call the _economic value of water_ in WAS the _value of water_. \n",
    "\n",
    "The value of water is based on how much a user is willing to pay for water.  The vaue of water declines as more is used.  Each additional unit that is desired, or demanded, is less valuable then the last.  This makes sense: A household will be willing to pay more for its first units of water since they are essential for drinking and cooking.  Subsequent units of water needed for showing or cleaning are less important, and a household would be willing to pay less for them.  This means they are less valuable.  A household would be willing to pay even less for the last units of water needed to water the garden.  This water is the least valuable.  So, **if we know how much a household is willing to pay for water, we know the value of the water.**  You can use the slider below to see the welfare (benefits) for a household at different price levels."
   ]
  },
  {
   "cell_type": "code",
   "execution_count": null,
   "metadata": {
    "collapsed": false,
    "hideCode": true,
    "hidePrompt": true
   },
   "outputs": [],
   "source": [
    "%pylab inline\n",
    "from econgraphs import Market, springMarket, scenarioSimulator, graphMaker\n",
    "from ipywidgets import interact, interactive, fixed\n",
    "interact(graphMaker.drawHouseholds,price=(0,11,.5),annotate=True)"
   ]
  },
  {
   "cell_type": "markdown",
   "metadata": {
    "hideCode": false,
    "hidePrompt": false
   },
   "source": [
    "The graph above shows the quantity of water that a household is willing to purchase at a given price.  As the quantity of water used rises, the household is willing to pay less for the next unit.  Each blue bar represents (roughly) the household's benefit from using that unit of water.  The benefit is high for the first units, since the household would be willing to pay a lot for them.  The benefit is low for the last units, since the household pretty much has all of the water it needs.\n",
    "\n",
    "Note the causality in this example: The first units of water are not valuable _because_ a household is willing to pay more for it, a household is willing to pay more for it _because_ it considers the water very valuable.  We use the households willingness to pay as a measure of value becuase it signals how much the household values the water.\n",
    "\n",
    "##### Society's demand curve\n",
    "\n",
    "To measure society's value for water, we aggregate household and other buyers' demand curves into one line, called the **demand curve**, which represents the social demand for water at different prices.  "
   ]
  },
  {
   "cell_type": "code",
   "execution_count": null,
   "metadata": {
    "collapsed": false,
    "hideCode": true,
    "hidePrompt": true
   },
   "outputs": [],
   "source": [
    "graphMaker.drawDemand()"
   ]
  },
  {
   "cell_type": "markdown",
   "metadata": {
    "hidePrompt": false
   },
   "source": [
    "Each point on the demand line represents a qunatity (Q) and a price (P).  Each quantity level (Q) has a price (P) that shows how much society would be willing to pay for the next unit (Q+1) of water. For instance, at quantity Q = 2, the price consumer are willing to pay for the next unit of water (P) = 6. Since the price (P) represents the maximum society would be willing to pay, it represents the social value of the Qth unit of water.  The area under the demand curve represents the (gross) total social value of water, which is also the social welfare from using the water.  \n",
    "\n",
    "For info on how we estimate the demand line, see the [Demand Estimation Notebook](google.com)\n",
    "\n",
    "*graphMaker.drawDemand(subsidy = 3, annotate = True)\n",
    "\n",
    "##### The costs of providing water\n",
    "\n",
    "We need to include the costs of providing water in our calculation of social welfare.  To do so, we draw a line representing the cost of providing each quantity of water, called the **supply curve**.  The cost of water increases as more is used.  This makes sense: The first units of water supplied will come from sources that are easy to access, but as those sources are exhausted, it will be more expensive to find and pump additional units of water.  \n"
   ]
  },
  {
   "cell_type": "code",
   "execution_count": null,
   "metadata": {
    "collapsed": false,
    "hideCode": true,
    "hidePrompt": true,
    "scrolled": true
   },
   "outputs": [],
   "source": [
    "graphMaker.drawFigure(drawSurplus = False)"
   ]
  },
  {
   "cell_type": "markdown",
   "metadata": {},
   "source": [
    "Each point on the supply line represents a quantity (Q) and price (P).  Each quantity level (Q) has a price (P)  that is the same as the cost of production.  For instance, at quantity Q = 2, the price of providing water (P) = 2.  The supply curve has a strange shape - like stairs - becuase of the nature of water provision: building pumps and pipes is very expensive, but once they are built, it is virtually free to operate them.  Each step in the supply function represents a new pump or pipe that must be built to supply additional water when previous infrastructure cannot pump any more water.\n",
    "\n",
    "##### Social Welfare\n",
    "\n",
    "The overall (net) benefit of providing water, called **Social Welfare** is given by the total shaded area (the **surplus**).  The word _surplus_ is used becuase the shaded area represents he surplus (extra) value that a consumer gains when she buys water for less than she would have paid.\n",
    "\n",
    "$$Surplus = Total\\ Benefits - Total\\ Costs$$  \n",
    "This graph below shows that the Social Welfare is the _total (gross) social benefit_ from water minus the _total cost_ of providing the water."
   ]
  },
  {
   "cell_type": "code",
   "execution_count": null,
   "metadata": {
    "collapsed": false,
    "hideCode": true,
    "hidePrompt": true
   },
   "outputs": [],
   "source": [
    "graphMaker.drawFigure()"
   ]
  },
  {
   "cell_type": "markdown",
   "metadata": {
    "hidePrompt": false
   },
   "source": [
    "The shaded area represents the net social gain, or _**surplus**_, from providing all the water that is demanded.\n",
    "\n",
    "Notice that there social welfare does not increase for supply levels where the supply line is above the demand line.  When this is the case, the costs of providing water is more than people are willing to pay for the water, and thus consumers will not use it even if it is available.  \n",
    "\n",
    "#### WAS calculates social surplus\n",
    "\n",
    "When WAS maximizes the social welfare of water consumption, it is maximizing the surplus as shown above.  It calculates the total surplus from all markets based on how water is allocated.\n",
    "\n",
    "### Equilibrium in the Marketplace\n",
    "\n",
    "In a classical marketplace, equilibrium is when the quantity supplied is equal to the quantity demanded.  At this point, the price that buyers are willing to pay is the same as the cost of supplying the good.  Equilibrium levels of supply and demand at eqilibrium are said to be optimal, because they maximize the overall social welfare (total surplus) from providing water.  This is also true in a water market.\n",
    "\n"
   ]
  },
  {
   "cell_type": "code",
   "execution_count": null,
   "metadata": {
    "collapsed": false,
    "hideCode": true,
    "hidePrompt": true
   },
   "outputs": [],
   "source": [
    "graphMaker.annotate()\n",
    "graphMaker.drawFigure(annotate=True)"
   ]
  },
  {
   "cell_type": "markdown",
   "metadata": {
    "hidePrompt": false
   },
   "source": [
    "#### A Market for Water\n",
    "\n",
    "The water market is different from a efficient classical market in two important ways:\n",
    " * Water is supplied at cost instead of at the equilibrium price\n",
    " * There physical market for water does not really exist: instead, pricing is determined by a state administrator\n",
    "\n",
    "These concepts are discussed below.\n",
    "\n",
    "Classical vs. Water Market:\n",
    "\n",
    "In a classic market, there is only one price, and each unit supplied has the same price.  This is not the case for water.  In the Water market, each unit is sold _at cost_, meaning the price is equal to the cost of supplying the water.  This means the first unit of water is inexpensive, but after a certain amount of water is used, each additional unit of water is more expensive. \n",
    "\n",
    "In the water market, because the price of each unit of water is equal to the cost of supplying it, there is no producer suprlus; **all surplus is consumer surplus**.\n",
    "\n",
    "Thus, the supply curve in the water market represents both: \n",
    "* The cost of production for different quantities of water, as in a classical market \n",
    "* The price that buyers pay for water after they have used different quantities of water.\n",
    "\n",
    "Use the graph below to see the total social surplus as quantity supplied changes."
   ]
  },
  {
   "cell_type": "code",
   "execution_count": null,
   "metadata": {
    "collapsed": false,
    "hideCode": true,
    "hideOutput": false,
    "hidePrompt": true
   },
   "outputs": [],
   "source": [
    "interact(graphMaker.drawQuantity,quantity = (1,3.5,.05),annotate=True)"
   ]
  },
  {
   "cell_type": "markdown",
   "metadata": {},
   "source": [
    "\n",
    "\n",
    "Real Market vs Water Market:\n",
    "\n",
    "In reality, _**there is no market for Water**_ - nor should there be.  It would be wasteful for competing suppliers to build multiple pipelines and wells in the same place.  For this reason, instead of a free market, a municipal or state administration determines water prices by using a model like WAS to simulate the market.  Thus, although there is no real market for water, society can still achieve the maxiumum social welfare that would arise in such a market.\n",
    "\n",
    "#### WAS calculates equilibrium\n",
    "\n",
    "WAS does all of these calculations based on information it is given by the user.  It is up to the policy makers to implement policies that will lead to the optimal water allocation described by WAS.\n",
    "\n",
    "### Optimal Allocation Outside of Equilibrium\n",
    "\n",
    "Not every water market has enough water to reach equilibrium, especially in the Middle East. When water is scarce it becomes even more important to maximize the value that society recieves from it.  Consider a region with two markets and insufficinet water for both markets to reach equilibrum.  You can use the slider the change the fraction of the water supply that is sent to market 1."
   ]
  },
  {
   "cell_type": "code",
   "execution_count": null,
   "metadata": {
    "collapsed": false,
    "hideCode": true,
    "hidePrompt": true
   },
   "outputs": [],
   "source": [
    "interact(graphMaker.drawTradeoff, totalSupply = fixed(3.5), firstMarketFrac = (.1,1,.1),otherMarket=fixed(None),annotate=fixed(False))"
   ]
  },
  {
   "cell_type": "markdown",
   "metadata": {
    "collapsed": true
   },
   "source": [
    "The shaded area shows the total surplus in each region, and the sum is the social welfare in the market.  In this example, the optimal allocation - which maximizes social welfare - is an even split in which the water avalabile is shared equally between markets.\n",
    "\n",
    "The alternative scenario below shows a region where it is expensive to pump water to Market 2 because it is sits on top of a hill."
   ]
  },
  {
   "cell_type": "code",
   "execution_count": null,
   "metadata": {
    "collapsed": false,
    "hideCode": true,
    "hidePrompt": true
   },
   "outputs": [],
   "source": [
    "from EconGraphs import highAltMarket\n",
    "graphMaker.annotate()\n",
    "interact(graphMaker.drawTradeoff, totalSupply = fixed(3), firstMarketFrac = (.1,1,.05),otherMarket=fixed(highAltMarket),annotate=False)"
   ]
  },
  {
   "cell_type": "markdown",
   "metadata": {},
   "source": [
    "In the above scenario the best way to allocate water is not as clear.  Water is more expensive in the Market 2, and thus it may be wasteful to pump water to Market 2 when it could be used in Market 1 at a lower price.\n",
    "\n",
    "The optimal allocation in this region will be when _the net social benefit of another unit of water_, or _**marginal surplus**_, is the same in both markets.  To understand why, consider a scenario where the marginal surplus in Market 1 is greater than the marginal surplus in Market 2.  Moving a unit of water from Market 1 to Market 2 would increase the social welfare from the water, increasing the social welfare in the region.  So, if water is not allocated so that the two markets have the same _**marginal surplus**_,  social welfare may be increased by changing the allocation.  \n",
    "\n",
    "Thus under the optimal allocation an additional unit of water increases social welfare equally, no matter what region is goes to, because each region has the same _**marginal surplus**_ for water.\n",
    "\n",
    "#### Was calculates optimal allocation outside of equilibrium\n",
    "\n",
    "WAS calculates the optimal levels of supply to determine the optimal allocation, in which the _**marginal surplus**_ is the same in every market.  Use the slider below to see optimal allocation within a region as water availability changes."
   ]
  },
  {
   "cell_type": "code",
   "execution_count": null,
   "metadata": {
    "collapsed": false,
    "hideCode": true,
    "hidePrompt": true
   },
   "outputs": [],
   "source": [
    "graphMaker.annotate()\n",
    "interact(graphMaker.drawOptimalTradeoff,totalSupply = (2,5,.1), otherMarket = fixed(highAltMarket),annotate=fixed(True), continuous_update=False)"
   ]
  },
  {
   "cell_type": "markdown",
   "metadata": {},
   "source": [
    "### Shadow Values\n",
    "\n",
    "In the real world, water resources are constrained by: \n",
    "* the amount of water available at the source\n",
    "* the amount of water _sustainabily_ available at the source\n",
    "* the capacity of pumps\n",
    "* the capacity of water connections\n",
    "* the absence of connections between markets\n",
    "\n",
    "It is possible to put a \"value\" on each of these constraints: using economic theory we can determine how beneficial it would be to ease each restriction.\n",
    "\n",
    "##### Shadow values for constraints\n",
    "\n",
    "The **shadow value** of a constraint is the increase in social welfare resulting from relaxing the constaint by a single unit.  For example:\n",
    "\n",
    "* A shadow value of .10 for a water pumping station means that social welfare would increase by \\$.10 if the pump capacity was increased by 1 cm _at no cost_\n",
    "* A shadow value of .05 for a pipeline means that social welfare would increase by \\$.10 if the pipeline capacity was increased by 1 cm _at no cost_\n",
    "\n",
    "The shadow value does **not** include the cost of providing additional water.\n",
    "\n",
    "##### Shadow values for individual water sources\n",
    "\n",
    "Each water source also has a **shadow value**, since the limited supply of water at each source can be considered a constraint.  The shadow value of water at the source is the social welfare from providing an additional unit of water _at no cost_.  The shadow value for a water source is also the price the market would be willing to pay for the next unit of water.  This is illustrated below."
   ]
  },
  {
   "cell_type": "code",
   "execution_count": null,
   "metadata": {
    "collapsed": false,
    "hideCode": true,
    "hidePrompt": true
   },
   "outputs": [],
   "source": [
    "interact(graphMaker.drawShadowValue,quantity=(1,3,.2),drawSurplus=fixed(False),scarcityRent=False, annotate=fixed(True))"
   ]
  },
  {
   "cell_type": "markdown",
   "metadata": {},
   "source": [
    "_**Scarcity rent**_ is a synonym for marginal surplus.  Notice that the scarcity rent drawn above is the same as the margnial surplus described earlier.  \n",
    "\n",
    "When there is no marginal cost to producing an additional unit of water, the scarcity rent for a market is the same as the shaddow value, as illustrated below."
   ]
  },
  {
   "cell_type": "code",
   "execution_count": null,
   "metadata": {
    "collapsed": false,
    "hideCode": true,
    "hidePrompt": true
   },
   "outputs": [],
   "source": [
    "lowMrktGraphMaker = scenarioSimulator(springMarket)\n",
    "interact(lowMrktGraphMaker.drawShadowValue,quantity=(1,3,.2),drawSurplus=fixed(False),scarcityRent=False, annotate=fixed(True))"
   ]
  },
  {
   "cell_type": "markdown",
   "metadata": {},
   "source": [
    "Shadow prices are useful because they allow comparison of demand for water in different markets.  To make useful comparisons, it is **very important** to subtract expected costs from shaddow values when calculating the social value added from more water or new infrastrucure.  This is necessary because the shaddow value represents the increase in social welfare from an additional _cost free_ unit of water.\n",
    "\n",
    "\n",
    "## Economic Concepts in WAS\n",
    "\n",
    "The basic uses of WAS are [desribed above](##Applications of WAS).  They are desribed here in greater detail using the previosly defined concepts.\n",
    "\n",
    "WAS can be used to discover:\n",
    " * Optimal water allocation among regions or countries using existing linkages\n",
    " * If international linkages would produce increase social welfare (and in whiche countries)\n",
    " * Which linkages or new infrastructure would be most socially valuable\n",
    " * The increase in social welfare that would result from international collboration\n",
    " * The optimal allocation of water under sustainability constraints\n",
    " * The costs and benefits of using water sustainabily\n",
    " \n",
    "and within each country:\n",
    " * Comparing social welfare gain from proposed infrastructure\n",
    " * The specific value of (or cost target of) proposed water infrastrucutre\n",
    " * How to optimally (re-)allocate water using only the current infrastrucure\n",
    " * The effects of different social policies on all of the questions above\n",
    " * The effects of several environmental policies on all of the questions above\n",
    "\n",
    "\n"
   ]
  }
 ],
 "metadata": {
  "anaconda-cloud": {},
  "celltoolbar": "Hide code",
  "kernelspec": {
   "display_name": "Python [default]",
   "language": "python",
   "name": "python2"
  },
  "language_info": {
   "codemirror_mode": {
    "name": "ipython",
    "version": 2
   },
   "file_extension": ".py",
   "mimetype": "text/x-python",
   "name": "python",
   "nbconvert_exporter": "python",
   "pygments_lexer": "ipython2",
   "version": "2.7.12"
  },
  "widgets": {
   "state": {
    "2d052c8b0227442fab50f9e5ab83d4e5": {
     "views": [
      {
       "cell_index": 20
      }
     ]
    },
    "32a44a6a94d146349eddfed2f5eec793": {
     "views": [
      {
       "cell_index": 22
      }
     ]
    },
    "4c0e6175130d4341af5e12c295a07a27": {
     "views": [
      {
       "cell_index": 18
      }
     ]
    },
    "511667b331704d53bd4da938fbae8aa7": {
     "views": [
      {
       "cell_index": 2
      }
     ]
    },
    "7ebea626c38e4211b343e96a66d34273": {
     "views": [
      {
       "cell_index": 12
      }
     ]
    },
    "9295b2500dde4ce1b15af8333c98760c": {
     "views": [
      {
       "cell_index": 14
      }
     ]
    },
    "afc5a09dff0b480a8063c30d0bdffa2d": {
     "views": [
      {
       "cell_index": 16
      }
     ]
    }
   },
   "version": "1.2.0"
  }
 },
 "nbformat": 4,
 "nbformat_minor": 0
}
