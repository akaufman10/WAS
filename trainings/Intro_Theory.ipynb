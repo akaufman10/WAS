{
 "cells": [
  {
   "cell_type": "markdown",
   "metadata": {},
   "source": [
    "\n",
    "# Introduction to the Theory of WAS\n",
    "\n",
    "This notebook discusses the concepts and ideas that you need to know to use WAS. \n",
    "Using WAS is discussed in the [Introduction to the Usage of WAS notebook] (google.com).  \n",
    "\n",
    "### WAS is a Water Allocation System\n",
    "\n",
    "The Water Allocation System (WAS) uses information about water sources, infrastructure, demand for water, and cooperation plans to build a model of a water system.  **WAS is special because it determines where water _should_ be allocated in order to achieve the greatest (optimal) social beneits.**  WAS also calculates the value of each water source, piece of infrastructure, and trade agreement.  It is designed to facilitate peacebuilding via water sharing among Israel, Jordan, and Palestine.  By calculating the benefits of cooperation and showing policy makers the best options for water sharing and trading, WAS hopes to encourage peaceful cooperation between nations.\n",
    "\n",
    "To determine the conditions that lead the greatist social benefits (the optimal condition), WAS uses economic theory to take all the information available and makes an equation that determines the benefit to society based on water allocation.\n",
    "\n",
    "$$Social\\ Benefits\\ =\\ function(Water\\ Model)$$\n",
    "\n",
    "Once the user has chosen the specific inputs to be considered, WAS uses a mathematical algortihm to determine the solutions that maximize Social Benefits.\n",
    "\n",
    "$$Social\\ Benefits_{max}\\ =\\ function(Water\\ Model_{optimal}) $$\n",
    "\n",
    "The results tell the user how to optimally allocate water, as well as the value of each part of the model, such as water source, connection, treatment plant, trade agreement, etc. \n",
    "\n",
    "### Applications of WAS\n",
    "  WAS can be used to discover:\n",
    " * The best places and ways for countries to buy and sell water with eachother\n",
    " * The net benefits for each contry if they buy and sell wate with eachother\n",
    " * The best places for countries to collaborate on building new infrastrucutre\n",
    " * The net benefits for each country if they collaborate to build infrastructure\n",
    " * The best way to allocate water that ensures sustainable usage of water\n",
    " \n",
    "and within each country:\n",
    " * Where new infrastrucute is needed\n",
    " * The most beneficial water projects\n",
    " * Whether the benefits of a project outweigh the costs\n",
    " * The effects of different social policies \n",
    " \n",
    "##### It is vital to understand that WAS does not make Policy, it only serves as a tool to guide it.\n",
    "\n",
    "### Fundamental Economic Concepts\n",
    "\n",
    "in order to understand WAS, it is necessary to understand the concepts in this section.  Users who are already familiar with these ideas may still find it beneficial to read this section because water markets operate differently from classic markets.\n",
    "\n",
    "#### How to measure the value of water in economic terms\n",
    "\n",
    "Water is extrmley valueable for survival.  \n",
    "\n",
    "\n",
    "Why use WAS? What is the purpose?\n",
    "\n",
    "How does WAS work?\n",
    "    -what do we mean by social benefits\n",
    "    -how does was know how to maximize social benefits\n",
    "    -what else does WAS tell us\n",
    "\n",
    "How does WAS allow us to answer other questions?\n",
    "    -scarcity \n",
    "\n"
   ]
  },
  {
   "cell_type": "code",
   "execution_count": null,
   "metadata": {
    "collapsed": true
   },
   "outputs": [],
   "source": []
  }
 ],
 "metadata": {
  "kernelspec": {
   "display_name": "Python 2",
   "language": "python",
   "name": "python2"
  },
  "language_info": {
   "codemirror_mode": {
    "name": "ipython",
    "version": 2
   },
   "file_extension": ".py",
   "mimetype": "text/x-python",
   "name": "python",
   "nbconvert_exporter": "python",
   "pygments_lexer": "ipython2",
   "version": "2.7.12"
  }
 },
 "nbformat": 4,
 "nbformat_minor": 0
}
